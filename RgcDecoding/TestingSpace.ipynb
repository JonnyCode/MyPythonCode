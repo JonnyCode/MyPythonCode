{
 "cells": [
  {
   "cell_type": "code",
   "execution_count": 1,
   "metadata": {
    "collapsed": true
   },
   "outputs": [],
   "source": [
    "import numpy"
   ]
  },
  {
   "cell_type": "code",
   "execution_count": null,
   "metadata": {
    "collapsed": true
   },
   "outputs": [],
   "source": [
    "StimParams[\"StimWn\"] = dict() # make parameters a dictionary for white noise\n",
    "StimParams[\"type\"] = \"StimWn\" # stim type \n",
    "StimParams[\"Duration\"] = 10 # (sec)\n",
    "StimParams[\"Width\"] = 100 # (pix)\n",
    "StimParams[\"Hieght\"] = 50 # (pix)\n",
    "StimParams[\"TimeStep\"] = .001 # (sec)\n",
    "StimParams[\"Mean\"] = 256/2 # (au) mean\n",
    "StimParams[\"Std\"] = 256/4 # (au) std"
   ]
  },
  {
   "cell_type": "code",
   "execution_count": 16,
   "metadata": {},
   "outputs": [
    {
     "name": "stdout",
     "output_type": "stream",
     "text": [
      "test= bill  tom\n"
     ]
    }
   ],
   "source": [
    "X=9\n",
    "print(\"test=\",\"bill\"\"  tom\")"
   ]
  },
  {
   "cell_type": "code",
   "execution_count": 5,
   "metadata": {},
   "outputs": [
    {
     "data": {
      "text/plain": [
       "10"
      ]
     },
     "execution_count": 5,
     "metadata": {},
     "output_type": "execute_result"
    }
   ],
   "source": [
    "StimParams = dict()\n",
    "StimParams[\"StimWn\"] = dict()\n",
    "StimParams[\"StimWn\"][\"Duration\"] = 10\n",
    "StimParams[\"StimWn\"][\"Duration\"]"
   ]
  },
  {
   "cell_type": "code",
   "execution_count": 18,
   "metadata": {},
   "outputs": [
    {
     "data": {
      "image/png": "[encoded data removed]",
      "text/plain": [
       "<matplotlib.figure.Figure at 0x112194630>"
      ]
     },
     "metadata": {},
     "output_type": "display_data"
    }
   ],
   "source": [
    "\n",
    "verbose = True # print/plot sanity checks\n",
    "StimType = \"StimWn\"\n",
    "EncoderType = \"LnModel1\"\n",
    "DecoderType = \"WarlandModel\"\n",
    "\n",
    "## import\n",
    "import numpy as np\n",
    "import matplotlib.pyplot as plt\n",
    "\n",
    "## global parameters\n",
    "GlobParams = dict() # make parameters a dictionary\n",
    "GlobParams[\"Duration\"] = 10 # (sec)\n",
    "GlobParams[\"TimeStep\"] = .001 # (sec)\n",
    "GlobParams[\"Width\"] = 100 # (pix) stim field\n",
    "GlobParams[\"Hieght\"] = 50 # (pix) stim field\n",
    "\n",
    "## stimulus parameters\n",
    "StimParams = dict() # make parameters a dictionary \n",
    "StimParams[\"StimWn\"] = dict() # make parameters dictionary for wn\n",
    "StimParams[\"StimWn\"][\"Mean\"] = 256/2 # (au) mean\n",
    "StimParams[\"StimWn\"][\"Std\"] = 256/4 # (au) std\n",
    "\n",
    "## encoder parameters\n",
    "EncoderParams = dict() # make parameters a dictionary\n",
    "EncoderParams[\"LnModel1\"] = dict() # make parameters a dictionary for simple ln model 1\n",
    "EncoderParams[\"LnModel1\"][\"srf_width\"] = 20 # (um) width of gaussian srf\n",
    "EncoderParams[\"LnModel1\"][\"trf_tau\"] = 100 # (ms) tau of exponential trf\n",
    "EncoderParams[\"LnModel1\"][\"trf_delay\"] = 100 # (ms) delay of expontential trf\n",
    "EncoderParams[\"LnModel1\"][\"trf_tauLength\"] = 3 # number of tau that trf extends\n",
    "\n",
    "## decoder parameters \n",
    "\n",
    "## global variables\n",
    "T = np.int(GlobParams[\"Duration\"]/GlobParams[\"TimeStep\"]) # number time points\n",
    "\n",
    "## generate stimulus\n",
    "if StimType == \"StimWn\":\n",
    "    Stim = np.random.normal(StimParams[\"StimWn\"][\"Mean\"],\\\n",
    "                            StimParams[\"StimWn\"][\"Std\"],\\\n",
    "                            (GlobParams[\"Width\"],\\\n",
    "                             GlobParams[\"Hieght\"],\\\n",
    "                             T)) # normal random (W,H,T)\n",
    "    \n",
    "    if verbose:\n",
    "        plt.imshow(Stim[:,:,1])\n",
    "        plt.show()\n",
    "        \n",
    "## encode stimulus\n",
    "\n",
    "if EncoderType == \"LnModel1\":\n",
    "    # (number) of cells in grid\n",
    "    C = int(np.ceil(GlobParams[\"Width\"]\\\n",
    "        /EncoderParams[\"LnModel1\"][\"srf_width\"])\\\n",
    "            *np.ceil(GlobParams[\"Hieght\"]\\\n",
    "        /EncoderParams[\"LnModel1\"][\"srf_width\"])) \n",
    "    \n",
    "    trf_l = EncoderParams[\"LnModel1\"][\"trf_tau\"]\\\n",
    "    *EncoderParams[\"LnModel1\"][\"trf_tauLength\"] # length of trf\n",
    "    \n",
    "    # make trf - decaying exponential with delay\n",
    "    trf  = np.exp((np.arange(-trf_l,trf_l+1)-EncoderParams[\"LnModel1\"][\"trf_delay\"])/-EncoderParams[\"LnModel1\"][\"trf_tau\"]) \n",
    "    trf[0:trf_l+EncoderParams[\"LnModel1\"][\"trf_delay\"]]=0\n",
    "    \n",
    "    # make srf - gaussian spread across stim field\n",
    "    import gaussMaker2d as gm\n",
    "    \n",
    "    ax=np.arange(EncoderParams[\"LnModel1\"][\"srf_width\"]/2,GlobParams[\"Width\"],EncoderParams[\"LnModel1\"][\"srf_width\"])\n",
    "    ay=np.arange(EncoderParams[\"LnModel1\"][\"srf_width\"]/2,GlobParams[\"Hieght\"],EncoderParams[\"LnModel1\"][\"srf_width\"])\n",
    "    xx,yy = np.meshgrid(ax,ay)\n"
   ]
  },
  {
   "cell_type": "code",
   "execution_count": null,
   "metadata": {
    "collapsed": true
   },
   "outputs": [],
   "source": []
  },
  {
   "cell_type": "code",
   "execution_count": 17,
   "metadata": {
    "collapsed": true
   },
   "outputs": [],
   "source": [
    "# import\n",
    "import numpy as np\n",
    "import matplotlib.pyplot as plt\n",
    "\n",
    "# stimulus parameters\n",
    "StimParams = dict()\n",
    "StimParams[\"type\"] = \"StimWn\" # stim type \n",
    "StimParams[\"Duration\"] = 10 # (sec)\n",
    "StimParams[\"Width\"] = 100 # (pix)\n",
    "StimParams[\"Hieght\"] = 50 # (pix)\n",
    "StimParams[\"TimeStep\"] = .001 # (sec)\n",
    "StimParams[\"Mean\"] = 256/2 # (au) mean\n",
    "StimParams[\"Std\"] = 256/4 # (au) std"
   ]
  },
  {
   "cell_type": "code",
   "execution_count": 3,
   "metadata": {},
   "outputs": [
    {
     "data": {
      "text/plain": [
       "True"
      ]
     },
     "execution_count": 3,
     "metadata": {},
     "output_type": "execute_result"
    }
   ],
   "source": [
    " StimParams[\"type\"] == \"StimWn\"\n",
    "    "
   ]
  },
  {
   "cell_type": "code",
   "execution_count": 4,
   "metadata": {},
   "outputs": [
    {
     "name": "stdout",
     "output_type": "stream",
     "text": [
      "bob\n"
     ]
    }
   ],
   "source": [
    "if StimParams[\"type\"] == \"StimWn\":\n",
    "    print('bob')"
   ]
  },
  {
   "cell_type": "code",
   "execution_count": 14,
   "metadata": {},
   "outputs": [
    {
     "data": {
      "text/plain": [
       "[<matplotlib.lines.Line2D at 0x1173580b8>]"
      ]
     },
     "execution_count": 14,
     "metadata": {},
     "output_type": "execute_result"
    }
   ],
   "source": [
    "plt.plot([1,2])"
   ]
  },
  {
   "cell_type": "code",
   "execution_count": 15,
   "metadata": {},
   "outputs": [
    {
     "data": {
      "image/png": "[encoded data removed]",
      "text/plain": [
       "<matplotlib.figure.Figure at 0x112354668>"
      ]
     },
     "metadata": {},
     "output_type": "display_data"
    }
   ],
   "source": []
  },
  {
   "cell_type": "code",
   "execution_count": 8,
   "metadata": {},
   "outputs": [
    {
     "name": "stdout",
     "output_type": "stream",
     "text": [
      "10000.0\n"
     ]
    }
   ],
   "source": [
    " T =StimParams[\"Duration\"]/StimParams[\"TimeStep\"] # number time points\n",
    " print(T)  "
   ]
  },
  {
   "cell_type": "code",
   "execution_count": 6,
   "metadata": {},
   "outputs": [
    {
     "data": {
      "text/plain": [
       "0"
      ]
     },
     "execution_count": 6,
     "metadata": {},
     "output_type": "execute_result"
    }
   ],
   "source": [
    "np.int(StimParams[\"TimeStep\"])"
   ]
  },
  {
   "cell_type": "code",
   "execution_count": 12,
   "metadata": {},
   "outputs": [
    {
     "ename": "KeyError",
     "evalue": "'bob'",
     "output_type": "error",
     "traceback": [
      "\u001b[0;31m---------------------------------------------------------------------------\u001b[0m",
      "\u001b[0;31mKeyError\u001b[0m                                  Traceback (most recent call last)",
      "\u001b[0;32m<ipython-input-12-37a28973cbc8>\u001b[0m in \u001b[0;36m<module>\u001b[0;34m()\u001b[0m\n\u001b[1;32m      1\u001b[0m \u001b[0mtest\u001b[0m \u001b[0;34m=\u001b[0m \u001b[0mdict\u001b[0m\u001b[0;34m(\u001b[0m\u001b[0;34m)\u001b[0m\u001b[0;34m\u001b[0m\u001b[0m\n\u001b[1;32m      2\u001b[0m \u001b[0mtest\u001b[0m\u001b[0;34m[\u001b[0m\u001b[0;34m\"name\"\u001b[0m\u001b[0;34m]\u001b[0m \u001b[0;34m=\u001b[0m \u001b[0;34m\"bob\"\u001b[0m\u001b[0;34m\u001b[0m\u001b[0m\n\u001b[0;32m----> 3\u001b[0;31m \u001b[0mtest\u001b[0m\u001b[0;34m[\u001b[0m\u001b[0;34m\"bob\"\u001b[0m\u001b[0;34m]\u001b[0m\u001b[0;34m[\u001b[0m\u001b[0;34m\"num\"\u001b[0m\u001b[0;34m]\u001b[0m \u001b[0;34m=\u001b[0m \u001b[0;36m5\u001b[0m\u001b[0;34m\u001b[0m\u001b[0m\n\u001b[0m",
      "\u001b[0;31mKeyError\u001b[0m: 'bob'"
     ]
    }
   ],
   "source": [
    "test = dict()\n",
    "test[\"name\"] = \"bob\" \n",
    "test[\"bob\"][\"num\"] = 5 "
   ]
  },
  {
   "cell_type": "code",
   "execution_count": null,
   "metadata": {
    "collapsed": true
   },
   "outputs": [],
   "source": [
    " Stim = np.random.normal(StimParams[\"Mean\"],\\\n",
    "                            StimParams[\"Std\"],\\\n",
    "                            (StimParams[\"Width\"],\\\n",
    "                             StimParams[\"Hieght\"],\\\n",
    "                             T)) # normal random (W,H,T)"
   ]
  }
 ],
 "metadata": {
  "kernelspec": {
   "display_name": "Python 3",
   "language": "python",
   "name": "python3"
  },
  "language_info": {
   "codemirror_mode": {
    "name": "ipython",
    "version": 3
   },
   "file_extension": ".py",
   "mimetype": "text/x-python",
   "name": "python",
   "nbconvert_exporter": "python",
   "pygments_lexer": "ipython3",
   "version": "3.6.3"
  }
 },
 "nbformat": 4,
 "nbformat_minor": 2
}
